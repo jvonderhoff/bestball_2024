{
 "cells": [
  {
   "cell_type": "code",
   "execution_count": 1,
   "id": "2dc44d3e",
   "metadata": {},
   "outputs": [],
   "source": [
    "import pandas as pd\n",
    "import sqlite3\n",
    "\n",
    "conn = sqlite3.connect('/Users/jvonderhoff/Desktop/FantasyFootball/2024/prod_bestball_2024.db')\n",
    "\n",
    "query = \"SELECT * FROM DK_lineups\"\n",
    "query2 = \"SELECT * FROM Underdog_lineups\"\n",
    "df = pd.read_sql(query, conn)\n",
    "df2 = pd.read_sql(query2, conn)"
   ]
  },
  {
   "cell_type": "code",
   "execution_count": 2,
   "id": "3f5cd0e2",
   "metadata": {},
   "outputs": [
    {
     "name": "stdout",
     "output_type": "stream",
     "text": [
      "Number of unique lineup_ID values: 27\n",
      "Number of unique DraftEntry values: 52\n"
     ]
    }
   ],
   "source": [
    "unique_lineup_ids = df['lineup_ID'].nunique()\n",
    "print(\"Number of unique lineup_ID values:\", unique_lineup_ids)\n",
    "\n",
    "unique_DraftEntry = df2['DraftEntry'].nunique()\n",
    "print(\"Number of unique DraftEntry values:\", unique_DraftEntry)\n",
    "\n"
   ]
  },
  {
   "cell_type": "code",
   "execution_count": 3,
   "id": "fe3837b6",
   "metadata": {},
   "outputs": [
    {
     "name": "stdout",
     "output_type": "stream",
     "text": [
      "contest_site\n",
      "Draftkings    27\n",
      "Name: lineup_ID, dtype: int64\n"
     ]
    }
   ],
   "source": [
    "unique_count_per_site = df.groupby('contest_site')['lineup_ID'].nunique()\n",
    "print(unique_count_per_site)"
   ]
  },
  {
   "cell_type": "code",
   "execution_count": 4,
   "id": "7c1ac115",
   "metadata": {},
   "outputs": [
    {
     "name": "stdout",
     "output_type": "stream",
     "text": [
      "contest_site  contest_name   \n",
      "Draftkings    Best Ball Milly     6\n",
      "              Fourth Down II      2\n",
      "              Play Action        19\n",
      "Name: lineup_ID, dtype: int64\n"
     ]
    }
   ],
   "source": [
    "unique_count_per_site_name = df.groupby(['contest_site', 'contest_name'])['lineup_ID'].nunique()\n",
    "print(unique_count_per_site_name)"
   ]
  },
  {
   "cell_type": "markdown",
   "id": "85d7d973",
   "metadata": {},
   "source": [
    "# Money Spent\n",
    "Underdog credit\n",
    "1. 25 dollar deposit Bonus\n",
    "2. 25 dollar Legup Credit\n",
    "\n",
    "DraftKings Credit\n",
    "1. 1 free entry into Milly\n",
    "\n",
    "Money Spent\n",
    "1. 99 dollars for a year of legup\n",
    "2. 4.99 a month started beginning of May"
   ]
  },
  {
   "cell_type": "code",
   "execution_count": 5,
   "id": "79d12dd4",
   "metadata": {},
   "outputs": [
    {
     "name": "stdout",
     "output_type": "stream",
     "text": [
      "185\n"
     ]
    }
   ],
   "source": [
    "total_spent_per_lineup = df.drop_duplicates('lineup_ID')['contest_entryFee'].sum()\n",
    "print(total_spent_per_lineup)"
   ]
  },
  {
   "cell_type": "code",
   "execution_count": 6,
   "id": "e5114ef7",
   "metadata": {},
   "outputs": [
    {
     "name": "stdout",
     "output_type": "stream",
     "text": [
      "contest_site\n",
      "Draftkings    185\n",
      "Name: contest_entryFee, dtype: int64\n"
     ]
    }
   ],
   "source": [
    "total_spent_per_lineup_site = df.drop_duplicates('lineup_ID').groupby(['lineup_ID', 'contest_site'])['contest_entryFee'].sum().reset_index()\n",
    "total_spent_per_site = total_spent_per_lineup_site.groupby('contest_site')['contest_entryFee'].sum()\n",
    "print(total_spent_per_site)"
   ]
  },
  {
   "cell_type": "code",
   "execution_count": 7,
   "id": "f171e403",
   "metadata": {},
   "outputs": [
    {
     "name": "stdout",
     "output_type": "stream",
     "text": [
      "contest_name\n",
      "Best Ball Milly    120\n",
      "Fourth Down II       8\n",
      "Play Action         57\n",
      "Name: contest_entryFee, dtype: int64\n"
     ]
    }
   ],
   "source": [
    "total_spent_per_lineup = df.drop_duplicates('lineup_ID').groupby(['lineup_ID', 'contest_name'])['contest_entryFee'].sum().reset_index()\n",
    "total_spent_per_contest = total_spent_per_lineup.groupby('contest_name')['contest_entryFee'].sum()\n",
    "print(total_spent_per_contest)"
   ]
  },
  {
   "cell_type": "code",
   "execution_count": 8,
   "id": "6575b53e",
   "metadata": {},
   "outputs": [
    {
     "name": "stdout",
     "output_type": "stream",
     "text": [
      "311.0\n",
      "185\n"
     ]
    }
   ],
   "source": [
    "UD_total_spent = df2.drop_duplicates('DraftEntry')['TournamentEntryFee'].sum()\n",
    "print(UD_total_spent)\n",
    "\n",
    "total_spent_per_lineup = df.drop_duplicates('lineup_ID')['contest_entryFee'].sum()\n",
    "print(total_spent_per_lineup)"
   ]
  },
  {
   "cell_type": "code",
   "execution_count": 9,
   "id": "20e12906",
   "metadata": {},
   "outputs": [
    {
     "name": "stdout",
     "output_type": "stream",
     "text": [
      "TournamentTitle\n",
      "Best Ball Mania V       50.0\n",
      "The Chihuahua 3         16.0\n",
      "The Fast Puppy          40.0\n",
      "The Mini Schnauzer 2     6.0\n",
      "The Mini Schnauzer 3    12.0\n",
      "The Mini Schnauzer 4    21.0\n",
      "The Mini Schnauzer 5     6.0\n",
      "The Poodle              84.0\n",
      "The Pug 2               36.0\n",
      "The Puppy 2             40.0\n",
      "Name: TournamentEntryFee, dtype: float64\n"
     ]
    }
   ],
   "source": [
    "UD_total_spent_per_lineup = df2.drop_duplicates('DraftEntry').groupby(['DraftEntry', 'TournamentTitle'])['TournamentEntryFee'].sum().reset_index()\n",
    "UD_total_spent_per_contest = UD_total_spent_per_lineup.groupby('TournamentTitle')['TournamentEntryFee'].sum()\n",
    "print(UD_total_spent_per_contest)"
   ]
  },
  {
   "cell_type": "markdown",
   "id": "efb904fd",
   "metadata": {},
   "source": [
    "# Underdog Lineup Analysis"
   ]
  },
  {
   "cell_type": "code",
   "execution_count": 10,
   "id": "b2efaba9",
   "metadata": {},
   "outputs": [
    {
     "ename": "KeyError",
     "evalue": "'FullName'",
     "output_type": "error",
     "traceback": [
      "\u001b[0;31m---------------------------------------------------------------------------\u001b[0m",
      "\u001b[0;31mKeyError\u001b[0m                                  Traceback (most recent call last)",
      "\u001b[0;32m~/opt/anaconda3/lib/python3.9/site-packages/pandas/core/indexes/base.py\u001b[0m in \u001b[0;36mget_loc\u001b[0;34m(self, key, method, tolerance)\u001b[0m\n\u001b[1;32m   3628\u001b[0m             \u001b[0;32mtry\u001b[0m\u001b[0;34m:\u001b[0m\u001b[0;34m\u001b[0m\u001b[0;34m\u001b[0m\u001b[0m\n\u001b[0;32m-> 3629\u001b[0;31m                 \u001b[0;32mreturn\u001b[0m \u001b[0mself\u001b[0m\u001b[0;34m.\u001b[0m\u001b[0m_engine\u001b[0m\u001b[0;34m.\u001b[0m\u001b[0mget_loc\u001b[0m\u001b[0;34m(\u001b[0m\u001b[0mcasted_key\u001b[0m\u001b[0;34m)\u001b[0m\u001b[0;34m\u001b[0m\u001b[0;34m\u001b[0m\u001b[0m\n\u001b[0m\u001b[1;32m   3630\u001b[0m             \u001b[0;32mexcept\u001b[0m \u001b[0mKeyError\u001b[0m \u001b[0;32mas\u001b[0m \u001b[0merr\u001b[0m\u001b[0;34m:\u001b[0m\u001b[0;34m\u001b[0m\u001b[0;34m\u001b[0m\u001b[0m\n",
      "\u001b[0;32m~/opt/anaconda3/lib/python3.9/site-packages/pandas/_libs/index.pyx\u001b[0m in \u001b[0;36mpandas._libs.index.IndexEngine.get_loc\u001b[0;34m()\u001b[0m\n",
      "\u001b[0;32m~/opt/anaconda3/lib/python3.9/site-packages/pandas/_libs/index.pyx\u001b[0m in \u001b[0;36mpandas._libs.index.IndexEngine.get_loc\u001b[0;34m()\u001b[0m\n",
      "\u001b[0;32mpandas/_libs/hashtable_class_helper.pxi\u001b[0m in \u001b[0;36mpandas._libs.hashtable.PyObjectHashTable.get_item\u001b[0;34m()\u001b[0m\n",
      "\u001b[0;32mpandas/_libs/hashtable_class_helper.pxi\u001b[0m in \u001b[0;36mpandas._libs.hashtable.PyObjectHashTable.get_item\u001b[0;34m()\u001b[0m\n",
      "\u001b[0;31mKeyError\u001b[0m: 'FullName'",
      "\nThe above exception was the direct cause of the following exception:\n",
      "\u001b[0;31mKeyError\u001b[0m                                  Traceback (most recent call last)",
      "\u001b[0;32m/var/folders/rw/gnx2znnj6f71wzg8dgtcqznh0000gn/T/ipykernel_1109/3306747775.py\u001b[0m in \u001b[0;36m<module>\u001b[0;34m\u001b[0m\n\u001b[1;32m      6\u001b[0m \u001b[0;34m\u001b[0m\u001b[0m\n\u001b[1;32m      7\u001b[0m \u001b[0;31m# Count the occurrences of player names where player_position = 'QB'\u001b[0m\u001b[0;34m\u001b[0m\u001b[0;34m\u001b[0m\u001b[0m\n\u001b[0;32m----> 8\u001b[0;31m \u001b[0mqb_player_counts\u001b[0m \u001b[0;34m=\u001b[0m \u001b[0mqb_lineups\u001b[0m\u001b[0;34m[\u001b[0m\u001b[0;34m'FullName'\u001b[0m\u001b[0;34m]\u001b[0m\u001b[0;34m.\u001b[0m\u001b[0mvalue_counts\u001b[0m\u001b[0;34m(\u001b[0m\u001b[0;34m)\u001b[0m\u001b[0;34m\u001b[0m\u001b[0;34m\u001b[0m\u001b[0m\n\u001b[0m\u001b[1;32m      9\u001b[0m \u001b[0;34m\u001b[0m\u001b[0m\n\u001b[1;32m     10\u001b[0m \u001b[0;31m# Print the QB player counts\u001b[0m\u001b[0;34m\u001b[0m\u001b[0;34m\u001b[0m\u001b[0m\n",
      "\u001b[0;32m~/opt/anaconda3/lib/python3.9/site-packages/pandas/core/frame.py\u001b[0m in \u001b[0;36m__getitem__\u001b[0;34m(self, key)\u001b[0m\n\u001b[1;32m   3503\u001b[0m             \u001b[0;32mif\u001b[0m \u001b[0mself\u001b[0m\u001b[0;34m.\u001b[0m\u001b[0mcolumns\u001b[0m\u001b[0;34m.\u001b[0m\u001b[0mnlevels\u001b[0m \u001b[0;34m>\u001b[0m \u001b[0;36m1\u001b[0m\u001b[0;34m:\u001b[0m\u001b[0;34m\u001b[0m\u001b[0;34m\u001b[0m\u001b[0m\n\u001b[1;32m   3504\u001b[0m                 \u001b[0;32mreturn\u001b[0m \u001b[0mself\u001b[0m\u001b[0;34m.\u001b[0m\u001b[0m_getitem_multilevel\u001b[0m\u001b[0;34m(\u001b[0m\u001b[0mkey\u001b[0m\u001b[0;34m)\u001b[0m\u001b[0;34m\u001b[0m\u001b[0;34m\u001b[0m\u001b[0m\n\u001b[0;32m-> 3505\u001b[0;31m             \u001b[0mindexer\u001b[0m \u001b[0;34m=\u001b[0m \u001b[0mself\u001b[0m\u001b[0;34m.\u001b[0m\u001b[0mcolumns\u001b[0m\u001b[0;34m.\u001b[0m\u001b[0mget_loc\u001b[0m\u001b[0;34m(\u001b[0m\u001b[0mkey\u001b[0m\u001b[0;34m)\u001b[0m\u001b[0;34m\u001b[0m\u001b[0;34m\u001b[0m\u001b[0m\n\u001b[0m\u001b[1;32m   3506\u001b[0m             \u001b[0;32mif\u001b[0m \u001b[0mis_integer\u001b[0m\u001b[0;34m(\u001b[0m\u001b[0mindexer\u001b[0m\u001b[0;34m)\u001b[0m\u001b[0;34m:\u001b[0m\u001b[0;34m\u001b[0m\u001b[0;34m\u001b[0m\u001b[0m\n\u001b[1;32m   3507\u001b[0m                 \u001b[0mindexer\u001b[0m \u001b[0;34m=\u001b[0m \u001b[0;34m[\u001b[0m\u001b[0mindexer\u001b[0m\u001b[0;34m]\u001b[0m\u001b[0;34m\u001b[0m\u001b[0;34m\u001b[0m\u001b[0m\n",
      "\u001b[0;32m~/opt/anaconda3/lib/python3.9/site-packages/pandas/core/indexes/base.py\u001b[0m in \u001b[0;36mget_loc\u001b[0;34m(self, key, method, tolerance)\u001b[0m\n\u001b[1;32m   3629\u001b[0m                 \u001b[0;32mreturn\u001b[0m \u001b[0mself\u001b[0m\u001b[0;34m.\u001b[0m\u001b[0m_engine\u001b[0m\u001b[0;34m.\u001b[0m\u001b[0mget_loc\u001b[0m\u001b[0;34m(\u001b[0m\u001b[0mcasted_key\u001b[0m\u001b[0;34m)\u001b[0m\u001b[0;34m\u001b[0m\u001b[0;34m\u001b[0m\u001b[0m\n\u001b[1;32m   3630\u001b[0m             \u001b[0;32mexcept\u001b[0m \u001b[0mKeyError\u001b[0m \u001b[0;32mas\u001b[0m \u001b[0merr\u001b[0m\u001b[0;34m:\u001b[0m\u001b[0;34m\u001b[0m\u001b[0;34m\u001b[0m\u001b[0m\n\u001b[0;32m-> 3631\u001b[0;31m                 \u001b[0;32mraise\u001b[0m \u001b[0mKeyError\u001b[0m\u001b[0;34m(\u001b[0m\u001b[0mkey\u001b[0m\u001b[0;34m)\u001b[0m \u001b[0;32mfrom\u001b[0m \u001b[0merr\u001b[0m\u001b[0;34m\u001b[0m\u001b[0;34m\u001b[0m\u001b[0m\n\u001b[0m\u001b[1;32m   3632\u001b[0m             \u001b[0;32mexcept\u001b[0m \u001b[0mTypeError\u001b[0m\u001b[0;34m:\u001b[0m\u001b[0;34m\u001b[0m\u001b[0;34m\u001b[0m\u001b[0m\n\u001b[1;32m   3633\u001b[0m                 \u001b[0;31m# If we have a listlike key, _check_indexing_error will raise\u001b[0m\u001b[0;34m\u001b[0m\u001b[0;34m\u001b[0m\u001b[0m\n",
      "\u001b[0;31mKeyError\u001b[0m: 'FullName'"
     ]
    }
   ],
   "source": [
    "# Filter lineups where player_position = 'QB'\n",
    "qb_lineups = df2[df2['Position'] == 'QB']\n",
    "\n",
    "# Create a new column 'FullName' by combining 'FirstName' and 'LastName'\n",
    "df2['FullName'] = df2['FirstName'] + ' ' + df2['LastName']\n",
    "\n",
    "# Count the occurrences of player names where player_position = 'QB'\n",
    "qb_player_counts = qb_lineups['FullName'].value_counts()\n",
    "\n",
    "# Print the QB player counts\n",
    "print(\"QB Player Counts:\")\n",
    "print(qb_player_counts)"
   ]
  },
  {
   "cell_type": "code",
   "execution_count": 11,
   "id": "5ae21320",
   "metadata": {},
   "outputs": [
    {
     "name": "stdout",
     "output_type": "stream",
     "text": [
      "QB Player Counts:\n",
      "Matthew Stafford      8\n",
      "Caleb Williams        7\n",
      "Brock Purdy           7\n",
      "Jordan Love           6\n",
      "Derek Carr            6\n",
      "Tua Tagovailoa        6\n",
      "Kirk Cousins          5\n",
      "Geno Smith            5\n",
      "Trevor Lawrence       5\n",
      "Jayden Daniels        5\n",
      "Baker Mayfield        4\n",
      "Bryce Young           4\n",
      "Josh Allen            4\n",
      "Patrick Mahomes       4\n",
      "Lamar Jackson         4\n",
      "Aaron Rodgers         4\n",
      "Anthony Richardson    4\n",
      "C.J. Stroud           4\n",
      "Joe Burrow            4\n",
      "Jalen Hurts           3\n",
      "Will Levis            3\n",
      "Drake Maye            3\n",
      "Jared Goff            3\n",
      "Kyler Murray          3\n",
      "Deshaun Watson        2\n",
      "Justin Herbert        2\n",
      "Russell Wilson        2\n",
      "Dak Prescott          2\n",
      "Bo Nix                2\n",
      "Aidan O'Connell       1\n",
      "Justin Fields         1\n",
      "Daniel Jones          1\n",
      "J.J. McCarthy         1\n",
      "Gardner Minshew II    1\n",
      "Name: FullName, dtype: int64\n"
     ]
    }
   ],
   "source": [
    "# Filter lineups where player_position = 'QB'\n",
    "qb_lineups = df2[df2['Position'] == 'QB']\n",
    "\n",
    "# Create a new column 'FullName' by combining 'FirstName' and 'LastName'\n",
    "df2['FullName'] = df2['FirstName'] + ' ' + df2['LastName']\n",
    "\n",
    "# Count the occurrences of player names where player_position = 'QB'\n",
    "qb_player_counts = qb_lineups['FullName'].value_counts()\n",
    "\n",
    "# Print the QB player counts\n",
    "print(\"QB Player Counts:\")\n",
    "print(qb_player_counts)"
   ]
  },
  {
   "cell_type": "code",
   "execution_count": 12,
   "id": "a039ecda",
   "metadata": {},
   "outputs": [
    {
     "name": "stdout",
     "output_type": "stream",
     "text": [
      "RB Player Counts:\n",
      "Austin Ekeler          11\n",
      "Zack Moss               9\n",
      "Rico Dowdle             9\n",
      "Rhamondre Stevenson     9\n",
      "Jaylen Warren           9\n",
      "                       ..\n",
      "Chuba Hubbard           1\n",
      "Khalil Herbert          1\n",
      "Breece Hall             1\n",
      "Saquon Barkley          1\n",
      "Kyren Williams          1\n",
      "Name: FullName, Length: 64, dtype: int64\n"
     ]
    }
   ],
   "source": [
    "# Filter lineups where player_position = 'RB'\n",
    "rb_lineups = df2[df2['Position'] == 'RB']\n",
    "\n",
    "# Create a new column 'FullName' by combining 'FirstName' and 'LastName'\n",
    "df2['FullName'] = df2['FirstName'] + ' ' + df2['LastName']\n",
    "\n",
    "# Count the occurrences of player names where player_position = 'QB'\n",
    "rb_player_counts = rb_lineups['FullName'].value_counts()\n",
    "\n",
    "# Print the rb player counts\n",
    "print(\"RB Player Counts:\")\n",
    "print(rb_player_counts)\n",
    "\n"
   ]
  },
  {
   "cell_type": "code",
   "execution_count": 13,
   "id": "4f0a53a2",
   "metadata": {},
   "outputs": [
    {
     "name": "stdout",
     "output_type": "stream",
     "text": [
      "wr Player Counts:\n",
      "Drake London          10\n",
      "Zay Flowers           10\n",
      "Adam Thielen          10\n",
      "Adonai Mitchell        9\n",
      "Jaxon Smith-Njigba     9\n",
      "                      ..\n",
      "Chase Claypool         1\n",
      "A.J. Brown             1\n",
      "DJ Chark Jr.           1\n",
      "Rashid Shaheed         1\n",
      "Christian Watson       1\n",
      "Name: FullName, Length: 95, dtype: int64\n"
     ]
    }
   ],
   "source": [
    "# Filter lineups where player_position = 'wr'\n",
    "wr_lineups = df2[df2['Position'] == 'WR']\n",
    "\n",
    "# Create a new column 'FullName' by combining 'FirstName' and 'LastName'\n",
    "df2['FullName'] = df2['FirstName'] + ' ' + df2['LastName']\n",
    "\n",
    "# Count the occurrences of player names where player_position = 'QB'\n",
    "wr_player_counts = wr_lineups['FullName'].value_counts()\n",
    "\n",
    "# Print the wr player counts\n",
    "print(\"wr Player Counts:\")\n",
    "print(wr_player_counts)\n",
    "\n"
   ]
  },
  {
   "cell_type": "code",
   "execution_count": 14,
   "id": "0c8e2515",
   "metadata": {},
   "outputs": [
    {
     "name": "stdout",
     "output_type": "stream",
     "text": [
      "te Player Counts:\n",
      "Jonnu Smith          10\n",
      "George Kittle         8\n",
      "Trey McBride          8\n",
      "Luke Musgrave         7\n",
      "Mark Andrews          7\n",
      "Chig Okonkwo          6\n",
      "Tyler Conklin         6\n",
      "Ben Sinnott           6\n",
      "Sam LaPorta           5\n",
      "Mike Gesicki          5\n",
      "Kyle Pitts            4\n",
      "Dawson Knox           4\n",
      "Dallas Goedert        4\n",
      "Noah Fant             4\n",
      "Brock Bowers          4\n",
      "Juwan Johnson         4\n",
      "Hunter Henry          4\n",
      "Travis Kelce          4\n",
      "Dalton Schultz        3\n",
      "Evan Engram           3\n",
      "Jelani Woods          3\n",
      "T.J. Hockenson        2\n",
      "David Njoku           2\n",
      "Tucker Kraft          2\n",
      "Dalton Kincaid        2\n",
      "Cade Otton            2\n",
      "Cole Kmet             2\n",
      "Colby Parkinson       2\n",
      "Ja'Tavion Sanders     1\n",
      "Michael Mayer         1\n",
      "Zach Ertz             1\n",
      "Name: FullName, dtype: int64\n"
     ]
    }
   ],
   "source": [
    "# Filter lineups where player_position = 'te'\n",
    "te_lineups = df2[df2['Position'] == 'TE']\n",
    "\n",
    "# Create a new column 'FullName' by combining 'FirstName' and 'LastName'\n",
    "df2['FullName'] = df2['FirstName'] + ' ' + df2['LastName']\n",
    "\n",
    "# Count the occurrences of player names where player_position = 'QB'\n",
    "te_player_counts = te_lineups['FullName'].value_counts()\n",
    "\n",
    "# Print the te player counts\n",
    "print(\"te Player Counts:\")\n",
    "print(te_player_counts)"
   ]
  },
  {
   "cell_type": "markdown",
   "id": "b69f29c9",
   "metadata": {},
   "source": [
    "# DK Lineup Analysis"
   ]
  },
  {
   "cell_type": "code",
   "execution_count": 15,
   "id": "49fad101",
   "metadata": {},
   "outputs": [
    {
     "name": "stdout",
     "output_type": "stream",
     "text": [
      "Lineup 7503db21-be71-4e4d-ba2b-e47bbcff570b: [\"Ja'Marr Chase\", 'Nico Collins', 'Cooper Kupp', 'Tee Higgins', 'Dalton Kincaid', 'Kenneth Walker III', 'George Kittle', 'Diontae Johnson', 'Tony Pollard', 'Devin Singletary', 'Matthew Stafford', 'Ezekiel Elliott', 'Jerome Ford', \"Ja'Lynn Polk\", 'Drake Maye', 'Marvin Mims Jr.', 'Bo Nix', 'Malik Washington', 'Dylan Laube', 'Jacoby Brissett']\n",
      "Lineup d1729559-b42d-4533-85cc-742ba17b5d9c: [\"Ja'Marr Chase\", 'Chris Olave', 'Malik Nabers', 'Tee Higgins', 'Tank Dell', 'Rome Odunze', 'Kyler Murray', 'Jaylen Warren', 'Trey Benson', 'Brian Robinson Jr.', 'Chase Brown', 'Jerome Ford', 'Deshaun Watson', 'Michael Wilson', 'Xavier Legette', 'Bryce Young', 'Tyler Conklin', 'Noah Fant', 'Mike Gesicki', 'Dawson Knox']\n",
      "Lineup a837181d-86db-4209-aaa1-c82156af5318: [\"Ja'Marr Chase\", 'Brandon Aiyuk', 'Deebo Samuel Sr.', 'Jalen Hurts', 'Trey McBride', 'Joe Burrow', 'Jordan Addison', 'Najee Harris', 'Javonte Williams', 'Courtland Sutton', 'Brian Robinson Jr.', 'Jerry Jeudy', 'MarShawn Lloyd', 'Jermaine Burton', 'Antonio Gibson', 'Hunter Henry', 'Marvin Mims Jr.', 'Javon Baker', \"D'Onta Foreman\", 'Kalif Raymond']\n",
      "Lineup b7b70b91-3183-46ab-a469-d38c47ed91be: [\"Ja'Marr Chase\", 'Jaylen Waddle', 'DeVonta Smith', 'Christian Kirk', 'Trey McBride', 'DeAndre Hopkins', 'Kyler Murray', 'Zack Moss', 'Najee Harris', 'Devin Singletary', 'Tua Tagovailoa', 'Jayden Daniels', 'MarShawn Lloyd', 'Ben Sinnott', 'Demarcus Robinson', 'Luke McCaffrey', 'Jonnu Smith', 'Greg Dortch', 'Will Shipley', 'Audric Estime']\n",
      "Lineup 88160728-75c4-43ac-b566-701e9c869a69: [\"Ja'Marr Chase\", 'Davante Adams', 'Malik Nabers', 'Josh Jacobs', 'Mark Andrews', 'Christian Watson', 'David Montgomery', 'Jordan Love', 'Curtis Samuel', 'Rashid Shaheed', 'Khalil Shakir', 'Rico Dowdle', 'Ty Chandler', 'Xavier Legette', 'Bryce Young', 'Daniel Jones', 'Clyde Edwards-Helaire', 'Juwan Johnson', 'Dylan Laube', 'Daniel Bellinger']\n"
     ]
    }
   ],
   "source": [
    "# Specify the desired player\n",
    "desired_player = \"Ja'Marr Chase\"\n",
    "\n",
    "# Filter lineups that include the desired player\n",
    "filtered_lineups = df[df['player_name'] == desired_player]\n",
    "\n",
    "# Print the lineup combinations for teams with the specific player\n",
    "for lineup_id in filtered_lineups['lineup_ID'].unique():\n",
    "    lineup = df[df['lineup_ID'] == lineup_id]['player_name'].tolist()\n",
    "    print(f\"Lineup {lineup_id}: {lineup}\")"
   ]
  },
  {
   "cell_type": "code",
   "execution_count": 16,
   "id": "21da8f4b",
   "metadata": {},
   "outputs": [
    {
     "name": "stdout",
     "output_type": "stream",
     "text": [
      "Lineup ID: 7503db21-be71-4e4d-ba2b-e47bbcff570b\n",
      "Draft Round: 1, Player Name: Ja'Marr Chase\n",
      "Draft Round: 2, Player Name: Nico Collins\n",
      "\n",
      "Lineup ID: 8b15b096-bb27-46d8-8723-3b2dd8702d6d\n",
      "Draft Round: 1, Player Name: CeeDee Lamb\n",
      "Draft Round: 2, Player Name: Kyren Williams\n",
      "\n",
      "Lineup ID: c73fa1b1-97e1-429f-887f-8f6fa114817b\n",
      "Draft Round: 1, Player Name: Bijan Robinson\n",
      "Draft Round: 2, Player Name: Drake London\n",
      "\n",
      "Lineup ID: 92d5fe6e-662b-4e09-ad1d-70c834cfb373\n",
      "Draft Round: 1, Player Name: Amon-Ra St. Brown\n",
      "Draft Round: 2, Player Name: Chris Olave\n",
      "\n",
      "Lineup ID: d1729559-b42d-4533-85cc-742ba17b5d9c\n",
      "Draft Round: 1, Player Name: Ja'Marr Chase\n",
      "Draft Round: 2, Player Name: Chris Olave\n",
      "\n",
      "Lineup ID: c64c8ad8-dbb4-4e9e-bf88-43ca89282be6\n",
      "Draft Round: 1, Player Name: Breece Hall\n",
      "Draft Round: 2, Player Name: Davante Adams\n",
      "\n",
      "Lineup ID: 7ecab08b-04e3-4faf-8621-388459ab077e\n",
      "Draft Round: 1, Player Name: Justin Jefferson\n",
      "Draft Round: 2, Player Name: Chris Olave\n",
      "\n",
      "Lineup ID: 341ae308-9744-4346-be5b-71f8404ca642\n",
      "Draft Round: 1, Player Name: Christian McCaffrey\n",
      "Draft Round: 2, Player Name: Sam LaPorta\n",
      "\n",
      "Lineup ID: a837181d-86db-4209-aaa1-c82156af5318\n",
      "Draft Round: 1, Player Name: Ja'Marr Chase\n",
      "Draft Round: 2, Player Name: Brandon Aiyuk\n",
      "\n",
      "Lineup ID: 8b584c8c-d33f-4f06-914c-84a900f736b4\n",
      "Draft Round: 1, Player Name: Bijan Robinson\n",
      "Draft Round: 2, Player Name: Brandon Aiyuk\n",
      "\n",
      "Lineup ID: 8f84b5ac-f626-4fdc-8006-e9d3b1a82e05\n",
      "Draft Round: 1, Player Name: Puka Nacua\n",
      "Draft Round: 2, Player Name: Jahmyr Gibbs\n",
      "\n",
      "Lineup ID: c97f6764-ae8e-4a64-8f1c-300b3cec0e4e\n",
      "Draft Round: 1, Player Name: Breece Hall\n",
      "Draft Round: 2, Player Name: Chris Olave\n",
      "\n",
      "Lineup ID: a2561e9b-5649-4577-94e2-4ae4e03b9e61\n",
      "Draft Round: 1, Player Name: CeeDee Lamb\n",
      "Draft Round: 2, Player Name: Jaylen Waddle\n",
      "\n",
      "Lineup ID: 26160b3d-a9d6-468d-952e-d3a2f1566e4a\n",
      "Draft Round: 1, Player Name: Justin Jefferson\n",
      "Draft Round: 2, Player Name: Brandon Aiyuk\n",
      "\n",
      "Lineup ID: fad11e73-c167-4db0-ab18-ecf6a98d339b\n",
      "Draft Round: 1, Player Name: Breece Hall\n",
      "Draft Round: 2, Player Name: Davante Adams\n",
      "\n",
      "Lineup ID: 68d00616-d981-4cdd-adf3-46c0d198bd26\n",
      "Draft Round: 1, Player Name: Christian McCaffrey\n",
      "Draft Round: 2, Player Name: Deebo Samuel Sr.\n",
      "\n",
      "Lineup ID: 5800f56c-8272-4fb5-8697-8db05217b39a\n",
      "Draft Round: 1, Player Name: Justin Jefferson\n",
      "Draft Round: 2, Player Name: Brandon Aiyuk\n",
      "\n",
      "Lineup ID: feae4651-0298-4de8-a474-089951e41357\n",
      "Draft Round: 1, Player Name: A.J. Brown\n",
      "Draft Round: 2, Player Name: Drake London\n",
      "\n",
      "Lineup ID: b7b70b91-3183-46ab-a469-d38c47ed91be\n",
      "Draft Round: 1, Player Name: Ja'Marr Chase\n",
      "Draft Round: 2, Player Name: Jaylen Waddle\n",
      "\n",
      "Lineup ID: cc7f7610-c018-4378-9619-e889722440b1\n",
      "Draft Round: 1, Player Name: CeeDee Lamb\n",
      "Draft Round: 2, Player Name: Brandon Aiyuk\n",
      "\n",
      "Lineup ID: 0ab9e7a8-8e1e-409c-b3b8-113cdfec95ff\n",
      "Draft Round: 1, Player Name: Justin Jefferson\n",
      "Draft Round: 2, Player Name: Nico Collins\n",
      "\n",
      "Lineup ID: 56b0dd52-ec28-4c93-855b-96d03e962a4b\n",
      "Draft Round: 1, Player Name: CeeDee Lamb\n",
      "Draft Round: 2, Player Name: Chris Olave\n",
      "\n",
      "Lineup ID: 0d26c912-e1a8-488d-a87c-87f9cf62ac4d\n",
      "Draft Round: 1, Player Name: Christian McCaffrey\n",
      "Draft Round: 2, Player Name: Brandon Aiyuk\n",
      "\n",
      "Lineup ID: 47116c2d-fac0-4136-97f6-08dbda1d16f2\n",
      "Draft Round: 1, Player Name: A.J. Brown\n",
      "Draft Round: 2, Player Name: Marvin Harrison Jr.\n",
      "\n",
      "Lineup ID: 88160728-75c4-43ac-b566-701e9c869a69\n",
      "Draft Round: 1, Player Name: Ja'Marr Chase\n",
      "Draft Round: 2, Player Name: Davante Adams\n",
      "\n",
      "Lineup ID: 1001ee2f-c5fa-4356-a79e-ab7b1206e699\n",
      "Draft Round: 1, Player Name: CeeDee Lamb\n",
      "Draft Round: 2, Player Name: Jaylen Waddle\n",
      "\n",
      "Lineup ID: 748782c2-2786-4c89-8874-c2a21d2ca01c\n",
      "Draft Round: 1, Player Name: Breece Hall\n",
      "Draft Round: 2, Player Name: Jaylen Waddle\n",
      "\n"
     ]
    }
   ],
   "source": [
    "# Get unique lineup IDs\n",
    "unique_lineup_ids = df['lineup_ID'].unique()\n",
    "\n",
    "# Loop through each lineup ID\n",
    "for lineup_id in unique_lineup_ids:\n",
    "    # Filter lineups for the current lineup ID and where draft_round is 1 or 2\n",
    "    filtered_lineups = df[(df['lineup_ID'] == lineup_id) & ((df['draft_round'] == 1) | (df['draft_round'] == 2))]\n",
    "    \n",
    "    # Sort the lineups by draft_round\n",
    "    sorted_lineups = filtered_lineups.sort_values('draft_round')\n",
    "    \n",
    "    # Get the draft picks and player names\n",
    "    draft_picks = sorted_lineups['draft_round']\n",
    "    player_names = sorted_lineups['player_name']\n",
    "    \n",
    "    \n",
    "    # Print the lineup ID and draft picks with player names\n",
    "    print(f\"Lineup ID: {lineup_id}\")\n",
    "    for draft_pick, player_name in zip(draft_picks, player_names):\n",
    "        print(f\"Draft Round: {draft_pick}, Player Name: {player_name}\")\n",
    "    print()"
   ]
  },
  {
   "cell_type": "code",
   "execution_count": 17,
   "id": "e2be6af2-2a14-4805-9ee0-781791dc2b9e",
   "metadata": {},
   "outputs": [
    {
     "name": "stdout",
     "output_type": "stream",
     "text": [
      "Number of Different Combinations: 27\n"
     ]
    }
   ],
   "source": [
    "# Filter lineups for draft_round 1 or 2\n",
    "filtered_lineups = df[(df['draft_round'] == 1) | (df['draft_round'] == 2)]\n",
    "\n",
    "# Group lineups by lineup_id and count unique combinations of draft_round\n",
    "combinations = filtered_lineups.groupby('lineup_ID')['draft_round'].nunique()\n",
    "\n",
    "# Count the total number of unique combinations\n",
    "total_combinations = combinations.value_counts().sum()\n",
    "\n",
    "# Print the number of different combinations of 1st and 2nd round picks\n",
    "print(f\"Number of Different Combinations: {total_combinations}\")"
   ]
  },
  {
   "cell_type": "code",
   "execution_count": 18,
   "id": "1d2c0c80-2dfd-48a4-adcc-25ca7f51cd42",
   "metadata": {},
   "outputs": [
    {
     "name": "stdout",
     "output_type": "stream",
     "text": [
      "Player Counts:\n",
      "Noah Fant             10\n",
      "Drake Maye             8\n",
      "Christian Kirk         8\n",
      "Malik Nabers           7\n",
      "Brian Robinson Jr.     7\n",
      "                      ..\n",
      "Aaron Jones            1\n",
      "Isaiah Likely          1\n",
      "Keenan Allen           1\n",
      "Gabe Davis             1\n",
      "Parker Washington      1\n",
      "Name: player_name, Length: 202, dtype: int64\n"
     ]
    }
   ],
   "source": [
    "# Count the occurrences of all player names\n",
    "player_counts = df['player_name'].value_counts()\n",
    "\n",
    "# Print the player counts\n",
    "print(\"Player Counts:\")\n",
    "print(player_counts)"
   ]
  },
  {
   "cell_type": "code",
   "execution_count": 19,
   "id": "7c2afd07",
   "metadata": {},
   "outputs": [
    {
     "name": "stdout",
     "output_type": "stream",
     "text": [
      "QB Player Counts:\n",
      "Drake Maye            8\n",
      "Trevor Lawrence       5\n",
      "Jayden Daniels        5\n",
      "Brock Purdy           5\n",
      "Kyler Murray          4\n",
      "Jalen Hurts           4\n",
      "Bryce Young           4\n",
      "Matthew Stafford      3\n",
      "Joe Burrow            3\n",
      "Deshaun Watson        3\n",
      "Aaron Rodgers         3\n",
      "Lamar Jackson         3\n",
      "Russell Wilson        2\n",
      "Anthony Richardson    2\n",
      "Justin Herbert        2\n",
      "Geno Smith            2\n",
      "Josh Allen            2\n",
      "Sam Howell            1\n",
      "Daniel Jones          1\n",
      "Jordan Love           1\n",
      "J.J. McCarthy         1\n",
      "Tua Tagovailoa        1\n",
      "Caleb Williams        1\n",
      "Dak Prescott          1\n",
      "Derek Carr            1\n",
      "Bo Nix                1\n",
      "Jacoby Brissett       1\n",
      "Kirk Cousins          1\n",
      "Gardner Minshew II    1\n",
      "Name: player_name, dtype: int64\n"
     ]
    }
   ],
   "source": [
    "# Filter lineups where player_position = 'QB'\n",
    "qb_lineups = df[df['player_position'] == 'QB']\n",
    "\n",
    "# Count the occurrences of player names where player_position = 'QB'\n",
    "qb_player_counts = qb_lineups['player_name'].value_counts()\n",
    "\n",
    "# Print the QB player counts\n",
    "print(\"QB Player Counts:\")\n",
    "print(qb_player_counts)"
   ]
  },
  {
   "cell_type": "code",
   "execution_count": 20,
   "id": "9f8680af",
   "metadata": {},
   "outputs": [
    {
     "name": "stdout",
     "output_type": "stream",
     "text": [
      "RB Player Counts:\n",
      "Jaylen Warren            7\n",
      "Brian Robinson Jr.       7\n",
      "Devin Singletary         6\n",
      "Jaleel McLaughlin        5\n",
      "MarShawn Lloyd           5\n",
      "Zach Charbonnet          5\n",
      "Najee Harris             5\n",
      "Kendre Miller            5\n",
      "Ty Chandler              5\n",
      "Antonio Gibson           5\n",
      "Trey Benson              5\n",
      "Dylan Laube              5\n",
      "Breece Hall              4\n",
      "Kimani Vidal             4\n",
      "D'Onta Foreman           4\n",
      "Rico Dowdle              4\n",
      "Jonathon Brooks          4\n",
      "Jerome Ford              4\n",
      "Ezekiel Elliott          4\n",
      "Javonte Williams         3\n",
      "Tony Pollard             3\n",
      "Bucky Irving             3\n",
      "Kenneth Walker III       3\n",
      "Christian McCaffrey      3\n",
      "Elijah Mitchell          3\n",
      "Ray Davis                3\n",
      "Trey Sermon              3\n",
      "Audric Estime            3\n",
      "Tyler Allgeier           3\n",
      "David Montgomery         3\n",
      "Zamir White              2\n",
      "Zack Moss                2\n",
      "Will Shipley             2\n",
      "Jaylen Wright            2\n",
      "Tyjae Spears             2\n",
      "Blake Corum              2\n",
      "Rhamondre Stevenson      2\n",
      "Kyren Williams           2\n",
      "Rasheen Ali              2\n",
      "Chase Brown              2\n",
      "Bijan Robinson           2\n",
      "Evan Hull                2\n",
      "Khalil Herbert           1\n",
      "Clyde Edwards-Helaire    1\n",
      "Josh Jacobs              1\n",
      "Braelon Allen            1\n",
      "Tyrone Tracy Jr.         1\n",
      "Eric Gray                1\n",
      "Deuce Vaughn             1\n",
      "Aaron Jones              1\n",
      "Chris Rodriguez Jr.      1\n",
      "De'Von Achane            1\n",
      "Jahmyr Gibbs             1\n",
      "Roschon Johnson          1\n",
      "Name: player_name, dtype: int64\n",
      "wr Player Counts:\n",
      "Christian Kirk       8\n",
      "Brandon Aiyuk        7\n",
      "Malik Nabers         7\n",
      "Ricky Pearsall       6\n",
      "Chris Olave          6\n",
      "                    ..\n",
      "Calvin Ridley        1\n",
      "Puka Nacua           1\n",
      "Jacob Cowing         1\n",
      "Jalen McMillan       1\n",
      "Parker Washington    1\n",
      "Name: player_name, Length: 87, dtype: int64\n",
      "te Player Counts:\n",
      "Noah Fant            10\n",
      "Juwan Johnson         6\n",
      "Hunter Henry          5\n",
      "Mark Andrews          5\n",
      "Trey McBride          4\n",
      "Dalton Kincaid        4\n",
      "Dawson Knox           3\n",
      "Zach Ertz             3\n",
      "George Kittle         3\n",
      "Ben Sinnott           2\n",
      "Tyler Conklin         2\n",
      "Chig Okonkwo          2\n",
      "Brock Bowers          2\n",
      "Pat Freiermuth        2\n",
      "Colby Parkinson       2\n",
      "Luke Musgrave         1\n",
      "Will Dissly           1\n",
      "Michael Mayer         1\n",
      "Jonnu Smith           1\n",
      "Austin Hooper         1\n",
      "Tucker Kraft          1\n",
      "Donald Parham Jr.     1\n",
      "Dalton Schultz        1\n",
      "Dallas Goedert        1\n",
      "Jake Ferguson         1\n",
      "Cole Kmet             1\n",
      "Evan Engram           1\n",
      "Sam LaPorta           1\n",
      "Isaiah Likely         1\n",
      "Taysom Hill           1\n",
      "Mike Gesicki          1\n",
      "Daniel Bellinger      1\n",
      "Name: player_name, dtype: int64\n"
     ]
    }
   ],
   "source": [
    "# Filter lineups where player_position = 'RB'\n",
    "rb_lineups = df[df['player_position'] == 'RB']\n",
    "\n",
    "# Count the occurrences of player names where player_position = 'QB'\n",
    "rb_player_counts = rb_lineups['player_name'].value_counts()\n",
    "\n",
    "# Print the rb player counts\n",
    "print(\"RB Player Counts:\")\n",
    "print(rb_player_counts)\n",
    "\n",
    "# Filter lineups where player_position = 'wr'\n",
    "wr_lineups = df[df['player_position'] == 'WR']\n",
    "\n",
    "# Count the occurrences of player names where player_position = 'QB'\n",
    "wr_player_counts = wr_lineups['player_name'].value_counts()\n",
    "\n",
    "# Print the wr player counts\n",
    "print(\"wr Player Counts:\")\n",
    "print(wr_player_counts)\n",
    "\n",
    "# Filter lineups where player_position = 'te'\n",
    "te_lineups = df[df['player_position'] == 'TE']\n",
    "\n",
    "# Count the occurrences of player names where player_position = 'QB'\n",
    "te_player_counts = te_lineups['player_name'].value_counts()\n",
    "\n",
    "# Print the te player counts\n",
    "print(\"te Player Counts:\")\n",
    "print(te_player_counts)"
   ]
  },
  {
   "cell_type": "code",
   "execution_count": 21,
   "id": "4d4dad4b",
   "metadata": {},
   "outputs": [
    {
     "name": "stdout",
     "output_type": "stream",
     "text": [
      "Lineup ID: 1001ee2f-c5fa-4356-a79e-ab7b1206e699\n",
      "Player Names: CeeDee Lamb, Jaylen Waddle, Chris Olave, Tank Dell, Christian Kirk, George Kittle, Kenneth Walker III, Jaylen Warren, Jonathon Brooks, Rashid Shaheed, Justin Herbert, Rico Dowdle, Kimani Vidal, Geno Smith, Noah Fant, Drake Maye, DJ Chark Jr., Roschon Johnson, Javon Baker, K.J. Osborn\n",
      "\n",
      "Lineup ID: 47116c2d-fac0-4136-97f6-08dbda1d16f2\n",
      "Player Names: A.J. Brown, Marvin Harrison Jr., DeVonta Smith, Jalen Hurts, Trey McBride, Marquise Brown, Kyler Murray, Najee Harris, Tony Pollard, Jonathon Brooks, Trey Benson, Jerry Jeudy, Ja'Lynn Polk, Kendre Miller, Antonio Gibson, Demarcus Robinson, Malachi Corley, Braelon Allen, Zach Ertz, Will Dissly\n",
      "\n",
      "Lineup ID: 748782c2-2786-4c89-8874-c2a21d2ca01c\n",
      "Player Names: Breece Hall, Jaylen Waddle, DK Metcalf, Tank Dell, Terry McLaurin, Rashee Rice, Xavier Worthy, Najee Harris, Brock Bowers, Trevor Lawrence, Jerome Ford, Zach Charbonnet, Kendre Miller, Demario Douglas, Hunter Henry, Russell Wilson, Marvin Mims Jr., Gardner Minshew II, Zach Ertz, Parker Washington\n",
      "\n",
      "Lineup ID: 7ecab08b-04e3-4faf-8621-388459ab077e\n",
      "Player Names: Justin Jefferson, Chris Olave, Deebo Samuel Sr., Lamar Jackson, Dalton Kincaid, Ladd McConkey, Jordan Addison, Jaylen Warren, Javonte Williams, Brock Purdy, Blake Corum, Ezekiel Elliott, Ricky Pearsall, MarShawn Lloyd, Isaiah Likely, Bucky Irving, Devontez Walker, Jalin Hyatt, Dylan Laube, Jacob Cowing\n",
      "\n",
      "Lineup ID: 88160728-75c4-43ac-b566-701e9c869a69\n",
      "Player Names: Ja'Marr Chase, Davante Adams, Malik Nabers, Josh Jacobs, Mark Andrews, Christian Watson, David Montgomery, Jordan Love, Curtis Samuel, Rashid Shaheed, Khalil Shakir, Rico Dowdle, Ty Chandler, Xavier Legette, Bryce Young, Daniel Jones, Clyde Edwards-Helaire, Juwan Johnson, Dylan Laube, Daniel Bellinger\n",
      "\n",
      "Lineup ID: 8b584c8c-d33f-4f06-914c-84a900f736b4\n",
      "Player Names: Bijan Robinson, Brandon Aiyuk, Deebo Samuel Sr., Jalen Hurts, Tee Higgins, Jayden Reed, DeAndre Hopkins, Joe Burrow, Jonathon Brooks, Courtland Sutton, Brian Robinson Jr., Cole Kmet, Pat Freiermuth, Jermaine Burton, Kimani Vidal, Jaleel McLaughlin, Hunter Henry, Elijah Mitchell, Jalen McMillan, Parris Campbell\n",
      "\n"
     ]
    },
    {
     "data": {
      "image/png": "[encoded data removed]",
      "text/plain": [
       "<Figure size 640x480 with 1 Axes>"
      ]
     },
     "metadata": {},
     "output_type": "display_data"
    }
   ],
   "source": [
    "import matplotlib.pyplot as plt\n",
    "\n",
    "# Specify the desired player\n",
    "desired_contest = \"Best Ball Milly\"\n",
    "\n",
    "# Filter lineups based on the desired contest\n",
    "filtered_lineups = df[df['contest_name'] == desired_contest]\n",
    "\n",
    "# Group the data by lineup_id and concatenate player_name values\n",
    "grouped_data = filtered_lineups.groupby('lineup_ID')['player_name'].apply(', '.join)\n",
    "\n",
    "# Print the player names by lineup_id\n",
    "for lineup_id, player_names in grouped_data.items():\n",
    "    print(f\"Lineup ID: {lineup_id}\")\n",
    "    print(f\"Player Names: {player_names}\")\n",
    "    print()\n",
    "\n",
    "# Optional: Create a bar chart to visualize the data\n",
    "lineup_counts = grouped_data.index.value_counts()\n",
    "\n",
    "plt.bar(lineup_counts.index, lineup_counts.values)\n",
    "plt.xlabel('lineup_id')\n",
    "plt.ylabel('Count')\n",
    "plt.title('Player Counts by lineup_id')\n",
    "plt.xticks(rotation=90)  # Rotate x-axis labels if necessary\n",
    "plt.show()"
   ]
  },
  {
   "cell_type": "code",
   "execution_count": 92,
   "id": "9369e8b7",
   "metadata": {},
   "outputs": [
    {
     "name": "stdout",
     "output_type": "stream",
     "text": [
      "Jonathon Brooks       3\n",
      "Deebo Samuel Sr.      2\n",
      "Chris Olave           2\n",
      "Rashid Shaheed        2\n",
      "Jalen Hurts           2\n",
      "                     ..\n",
      "Pat Freiermuth        1\n",
      "Cole Kmet             1\n",
      "Brian Robinson Jr.    1\n",
      "Courtland Sutton      1\n",
      "K.J. Osborn           1\n",
      "Name: player_name, Length: 90, dtype: int64\n"
     ]
    },
    {
     "data": {
      "image/png": "[encoded data removed]",
      "text/plain": [
       "<Figure size 1000x600 with 1 Axes>"
      ]
     },
     "metadata": {},
     "output_type": "display_data"
    }
   ],
   "source": [
    "import pandas as pd\n",
    "import seaborn as sns\n",
    "import matplotlib.pyplot as plt\n",
    "\n",
    "# Extract the player names from the DataFrame\n",
    "player_names = filtered_lineups['player_name']\n",
    "\n",
    "# Analyze player names\n",
    "player_name_counts = player_names.value_counts()\n",
    "\n",
    "# Print the player name counts\n",
    "print(player_name_counts)\n",
    "\n",
    "# Plot the player name counts as a bar chart\n",
    "plt.figure(figsize=(10, 6))\n",
    "sns.countplot(y=player_names, order=player_name_counts.index)\n",
    "plt.xlabel('Count')\n",
    "plt.ylabel('Player Name')\n",
    "plt.title('Player Name Counts')\n",
    "plt.show()\n"
   ]
  },
  {
   "cell_type": "code",
   "execution_count": 119,
   "id": "6c40993a",
   "metadata": {},
   "outputs": [
    {
     "name": "stdout",
     "output_type": "stream",
     "text": [
      " draft_round           player_name player_position                            lineup_ID\n",
      "           1      Justin Jefferson              WR 7ecab08b-04e3-4faf-8621-388459ab077e\n",
      "           1           CeeDee Lamb              WR 1001ee2f-c5fa-4356-a79e-ab7b1206e699\n",
      "           1        Bijan Robinson              RB 8b584c8c-d33f-4f06-914c-84a900f736b4\n",
      "           1         Ja'Marr Chase              WR 88160728-75c4-43ac-b566-701e9c869a69\n",
      "           1            A.J. Brown              WR 47116c2d-fac0-4136-97f6-08dbda1d16f2\n",
      "           2         Brandon Aiyuk              WR 8b584c8c-d33f-4f06-914c-84a900f736b4\n",
      "           2         Jaylen Waddle              WR 1001ee2f-c5fa-4356-a79e-ab7b1206e699\n",
      "           2         Davante Adams              WR 88160728-75c4-43ac-b566-701e9c869a69\n",
      "           2           Chris Olave              WR 7ecab08b-04e3-4faf-8621-388459ab077e\n",
      "           2   Marvin Harrison Jr.              WR 47116c2d-fac0-4136-97f6-08dbda1d16f2\n",
      "           3         DeVonta Smith              WR 47116c2d-fac0-4136-97f6-08dbda1d16f2\n",
      "           3          Malik Nabers              WR 88160728-75c4-43ac-b566-701e9c869a69\n",
      "           3      Deebo Samuel Sr.              WR 8b584c8c-d33f-4f06-914c-84a900f736b4\n",
      "           3      Deebo Samuel Sr.              WR 7ecab08b-04e3-4faf-8621-388459ab077e\n",
      "           3           Chris Olave              WR 1001ee2f-c5fa-4356-a79e-ab7b1206e699\n",
      "           4           Josh Jacobs              RB 88160728-75c4-43ac-b566-701e9c869a69\n",
      "           4           Jalen Hurts              QB 47116c2d-fac0-4136-97f6-08dbda1d16f2\n",
      "           4           Jalen Hurts              QB 8b584c8c-d33f-4f06-914c-84a900f736b4\n",
      "           4         Lamar Jackson              QB 7ecab08b-04e3-4faf-8621-388459ab077e\n",
      "           4             Tank Dell              WR 1001ee2f-c5fa-4356-a79e-ab7b1206e699\n",
      "           5        Christian Kirk              WR 1001ee2f-c5fa-4356-a79e-ab7b1206e699\n",
      "           5          Trey McBride              TE 47116c2d-fac0-4136-97f6-08dbda1d16f2\n",
      "           5        Dalton Kincaid              TE 7ecab08b-04e3-4faf-8621-388459ab077e\n",
      "           5          Mark Andrews              TE 88160728-75c4-43ac-b566-701e9c869a69\n",
      "           5           Tee Higgins              WR 8b584c8c-d33f-4f06-914c-84a900f736b4\n",
      "           6         Ladd McConkey              WR 7ecab08b-04e3-4faf-8621-388459ab077e\n",
      "           6      Christian Watson              WR 88160728-75c4-43ac-b566-701e9c869a69\n",
      "           6         George Kittle              TE 1001ee2f-c5fa-4356-a79e-ab7b1206e699\n",
      "           6           Jayden Reed              WR 8b584c8c-d33f-4f06-914c-84a900f736b4\n",
      "           6        Marquise Brown              WR 47116c2d-fac0-4136-97f6-08dbda1d16f2\n",
      "           7          Kyler Murray              QB 47116c2d-fac0-4136-97f6-08dbda1d16f2\n",
      "           7    Kenneth Walker III              RB 1001ee2f-c5fa-4356-a79e-ab7b1206e699\n",
      "           7      David Montgomery              RB 88160728-75c4-43ac-b566-701e9c869a69\n",
      "           7        Jordan Addison              WR 7ecab08b-04e3-4faf-8621-388459ab077e\n",
      "           7       DeAndre Hopkins              WR 8b584c8c-d33f-4f06-914c-84a900f736b4\n",
      "           8         Jaylen Warren              RB 1001ee2f-c5fa-4356-a79e-ab7b1206e699\n",
      "           8          Najee Harris              RB 47116c2d-fac0-4136-97f6-08dbda1d16f2\n",
      "           8            Joe Burrow              QB 8b584c8c-d33f-4f06-914c-84a900f736b4\n",
      "           8           Jordan Love              QB 88160728-75c4-43ac-b566-701e9c869a69\n",
      "           8         Jaylen Warren              RB 7ecab08b-04e3-4faf-8621-388459ab077e\n",
      "           9          Tony Pollard              RB 47116c2d-fac0-4136-97f6-08dbda1d16f2\n",
      "           9       Jonathon Brooks              RB 1001ee2f-c5fa-4356-a79e-ab7b1206e699\n",
      "           9         Curtis Samuel              WR 88160728-75c4-43ac-b566-701e9c869a69\n",
      "           9       Jonathon Brooks              RB 8b584c8c-d33f-4f06-914c-84a900f736b4\n",
      "           9      Javonte Williams              RB 7ecab08b-04e3-4faf-8621-388459ab077e\n",
      "          10        Rashid Shaheed              WR 1001ee2f-c5fa-4356-a79e-ab7b1206e699\n",
      "          10        Rashid Shaheed              WR 88160728-75c4-43ac-b566-701e9c869a69\n",
      "          10       Jonathon Brooks              RB 47116c2d-fac0-4136-97f6-08dbda1d16f2\n",
      "          10      Courtland Sutton              WR 8b584c8c-d33f-4f06-914c-84a900f736b4\n",
      "          10           Brock Purdy              QB 7ecab08b-04e3-4faf-8621-388459ab077e\n",
      "          11           Trey Benson              RB 47116c2d-fac0-4136-97f6-08dbda1d16f2\n",
      "          11    Brian Robinson Jr.              RB 8b584c8c-d33f-4f06-914c-84a900f736b4\n",
      "          11           Blake Corum              RB 7ecab08b-04e3-4faf-8621-388459ab077e\n",
      "          11         Khalil Shakir              WR 88160728-75c4-43ac-b566-701e9c869a69\n",
      "          11        Justin Herbert              QB 1001ee2f-c5fa-4356-a79e-ab7b1206e699\n",
      "          12           Rico Dowdle              RB 88160728-75c4-43ac-b566-701e9c869a69\n",
      "          12           Rico Dowdle              RB 1001ee2f-c5fa-4356-a79e-ab7b1206e699\n",
      "          12             Cole Kmet              TE 8b584c8c-d33f-4f06-914c-84a900f736b4\n",
      "          12       Ezekiel Elliott              RB 7ecab08b-04e3-4faf-8621-388459ab077e\n",
      "          12           Jerry Jeudy              WR 47116c2d-fac0-4136-97f6-08dbda1d16f2\n",
      "          13        Pat Freiermuth              TE 8b584c8c-d33f-4f06-914c-84a900f736b4\n",
      "          13           Ty Chandler              RB 88160728-75c4-43ac-b566-701e9c869a69\n",
      "          13        Ricky Pearsall              WR 7ecab08b-04e3-4faf-8621-388459ab077e\n",
      "          13          Ja'Lynn Polk              WR 47116c2d-fac0-4136-97f6-08dbda1d16f2\n",
      "          13          Kimani Vidal              RB 1001ee2f-c5fa-4356-a79e-ab7b1206e699\n",
      "          14            Geno Smith              QB 1001ee2f-c5fa-4356-a79e-ab7b1206e699\n",
      "          14        MarShawn Lloyd              RB 7ecab08b-04e3-4faf-8621-388459ab077e\n",
      "          14        Xavier Legette              WR 88160728-75c4-43ac-b566-701e9c869a69\n",
      "          14         Kendre Miller              RB 47116c2d-fac0-4136-97f6-08dbda1d16f2\n",
      "          14       Jermaine Burton              WR 8b584c8c-d33f-4f06-914c-84a900f736b4\n",
      "          15          Kimani Vidal              RB 8b584c8c-d33f-4f06-914c-84a900f736b4\n",
      "          15        Antonio Gibson              RB 47116c2d-fac0-4136-97f6-08dbda1d16f2\n",
      "          15         Isaiah Likely              TE 7ecab08b-04e3-4faf-8621-388459ab077e\n",
      "          15           Bryce Young              QB 88160728-75c4-43ac-b566-701e9c869a69\n",
      "          15             Noah Fant              TE 1001ee2f-c5fa-4356-a79e-ab7b1206e699\n",
      "          16          Daniel Jones              QB 88160728-75c4-43ac-b566-701e9c869a69\n",
      "          16          Bucky Irving              RB 7ecab08b-04e3-4faf-8621-388459ab077e\n",
      "          16     Demarcus Robinson              WR 47116c2d-fac0-4136-97f6-08dbda1d16f2\n",
      "          16     Jaleel McLaughlin              RB 8b584c8c-d33f-4f06-914c-84a900f736b4\n",
      "          16            Drake Maye              QB 1001ee2f-c5fa-4356-a79e-ab7b1206e699\n",
      "          17 Clyde Edwards-Helaire              RB 88160728-75c4-43ac-b566-701e9c869a69\n",
      "          17        Malachi Corley              WR 47116c2d-fac0-4136-97f6-08dbda1d16f2\n",
      "          17       Devontez Walker              WR 7ecab08b-04e3-4faf-8621-388459ab077e\n",
      "          17          Hunter Henry              TE 8b584c8c-d33f-4f06-914c-84a900f736b4\n",
      "          17          DJ Chark Jr.              WR 1001ee2f-c5fa-4356-a79e-ab7b1206e699\n",
      "          18         Juwan Johnson              TE 88160728-75c4-43ac-b566-701e9c869a69\n",
      "          18       Elijah Mitchell              RB 8b584c8c-d33f-4f06-914c-84a900f736b4\n",
      "          18         Braelon Allen              RB 47116c2d-fac0-4136-97f6-08dbda1d16f2\n",
      "          18           Jalin Hyatt              WR 7ecab08b-04e3-4faf-8621-388459ab077e\n",
      "          18       Roschon Johnson              RB 1001ee2f-c5fa-4356-a79e-ab7b1206e699\n",
      "          19        Jalen McMillan              WR 8b584c8c-d33f-4f06-914c-84a900f736b4\n",
      "          19           Dylan Laube              RB 88160728-75c4-43ac-b566-701e9c869a69\n",
      "          19             Zach Ertz              TE 47116c2d-fac0-4136-97f6-08dbda1d16f2\n",
      "          19           Javon Baker              WR 1001ee2f-c5fa-4356-a79e-ab7b1206e699\n",
      "          19           Dylan Laube              RB 7ecab08b-04e3-4faf-8621-388459ab077e\n",
      "          20      Daniel Bellinger              TE 88160728-75c4-43ac-b566-701e9c869a69\n",
      "          20       Parris Campbell              WR 8b584c8c-d33f-4f06-914c-84a900f736b4\n",
      "          20          Jacob Cowing              WR 7ecab08b-04e3-4faf-8621-388459ab077e\n",
      "          20           Will Dissly              TE 47116c2d-fac0-4136-97f6-08dbda1d16f2\n",
      "          20           K.J. Osborn              WR 1001ee2f-c5fa-4356-a79e-ab7b1206e699\n"
     ]
    }
   ],
   "source": [
    "# Sort the DataFrame by PickNumber\n",
    "sorted_df = filtered_lineups.sort_values('draft_round')\n",
    "\n",
    "# View player names by PickNumber\n",
    "player_names_by_pick = sorted_df[['draft_round', 'player_name', 'player_position', 'lineup_ID']]\n",
    "print(player_names_by_pick.to_string(index=False, max_rows=None))\n",
    "\n",
    "\n"
   ]
  },
  {
   "cell_type": "code",
   "execution_count": 125,
   "id": "6e96c585",
   "metadata": {},
   "outputs": [
    {
     "data": {
      "text/html": [
       "<div>\n",
       "<style scoped>\n",
       "    .dataframe tbody tr th:only-of-type {\n",
       "        vertical-align: middle;\n",
       "    }\n",
       "\n",
       "    .dataframe tbody tr th {\n",
       "        vertical-align: top;\n",
       "    }\n",
       "\n",
       "    .dataframe thead th {\n",
       "        text-align: right;\n",
       "    }\n",
       "</style>\n",
       "<table border=\"1\" class=\"dataframe\">\n",
       "  <thead>\n",
       "    <tr style=\"text-align: right;\">\n",
       "      <th></th>\n",
       "      <th>draft_round</th>\n",
       "      <th>player_name</th>\n",
       "      <th>player_position</th>\n",
       "      <th>lineup_ID</th>\n",
       "    </tr>\n",
       "  </thead>\n",
       "  <tbody>\n",
       "    <tr>\n",
       "      <th>120</th>\n",
       "      <td>1</td>\n",
       "      <td>Justin Jefferson</td>\n",
       "      <td>WR</td>\n",
       "      <td>7ecab08b-04e3-4faf-8621-388459ab077e</td>\n",
       "    </tr>\n",
       "    <tr>\n",
       "      <th>500</th>\n",
       "      <td>1</td>\n",
       "      <td>CeeDee Lamb</td>\n",
       "      <td>WR</td>\n",
       "      <td>1001ee2f-c5fa-4356-a79e-ab7b1206e699</td>\n",
       "    </tr>\n",
       "    <tr>\n",
       "      <th>180</th>\n",
       "      <td>1</td>\n",
       "      <td>Bijan Robinson</td>\n",
       "      <td>RB</td>\n",
       "      <td>8b584c8c-d33f-4f06-914c-84a900f736b4</td>\n",
       "    </tr>\n",
       "    <tr>\n",
       "      <th>480</th>\n",
       "      <td>1</td>\n",
       "      <td>Ja'Marr Chase</td>\n",
       "      <td>WR</td>\n",
       "      <td>88160728-75c4-43ac-b566-701e9c869a69</td>\n",
       "    </tr>\n",
       "    <tr>\n",
       "      <th>460</th>\n",
       "      <td>1</td>\n",
       "      <td>A.J. Brown</td>\n",
       "      <td>WR</td>\n",
       "      <td>47116c2d-fac0-4136-97f6-08dbda1d16f2</td>\n",
       "    </tr>\n",
       "    <tr>\n",
       "      <th>...</th>\n",
       "      <td>...</td>\n",
       "      <td>...</td>\n",
       "      <td>...</td>\n",
       "      <td>...</td>\n",
       "    </tr>\n",
       "    <tr>\n",
       "      <th>499</th>\n",
       "      <td>20</td>\n",
       "      <td>Daniel Bellinger</td>\n",
       "      <td>TE</td>\n",
       "      <td>88160728-75c4-43ac-b566-701e9c869a69</td>\n",
       "    </tr>\n",
       "    <tr>\n",
       "      <th>199</th>\n",
       "      <td>20</td>\n",
       "      <td>Parris Campbell</td>\n",
       "      <td>WR</td>\n",
       "      <td>8b584c8c-d33f-4f06-914c-84a900f736b4</td>\n",
       "    </tr>\n",
       "    <tr>\n",
       "      <th>139</th>\n",
       "      <td>20</td>\n",
       "      <td>Jacob Cowing</td>\n",
       "      <td>WR</td>\n",
       "      <td>7ecab08b-04e3-4faf-8621-388459ab077e</td>\n",
       "    </tr>\n",
       "    <tr>\n",
       "      <th>479</th>\n",
       "      <td>20</td>\n",
       "      <td>Will Dissly</td>\n",
       "      <td>TE</td>\n",
       "      <td>47116c2d-fac0-4136-97f6-08dbda1d16f2</td>\n",
       "    </tr>\n",
       "    <tr>\n",
       "      <th>519</th>\n",
       "      <td>20</td>\n",
       "      <td>K.J. Osborn</td>\n",
       "      <td>WR</td>\n",
       "      <td>1001ee2f-c5fa-4356-a79e-ab7b1206e699</td>\n",
       "    </tr>\n",
       "  </tbody>\n",
       "</table>\n",
       "<p>100 rows × 4 columns</p>\n",
       "</div>"
      ],
      "text/plain": [
       "     draft_round       player_name player_position  \\\n",
       "120            1  Justin Jefferson              WR   \n",
       "500            1       CeeDee Lamb              WR   \n",
       "180            1    Bijan Robinson              RB   \n",
       "480            1     Ja'Marr Chase              WR   \n",
       "460            1        A.J. Brown              WR   \n",
       "..           ...               ...             ...   \n",
       "499           20  Daniel Bellinger              TE   \n",
       "199           20   Parris Campbell              WR   \n",
       "139           20      Jacob Cowing              WR   \n",
       "479           20       Will Dissly              TE   \n",
       "519           20       K.J. Osborn              WR   \n",
       "\n",
       "                                lineup_ID  \n",
       "120  7ecab08b-04e3-4faf-8621-388459ab077e  \n",
       "500  1001ee2f-c5fa-4356-a79e-ab7b1206e699  \n",
       "180  8b584c8c-d33f-4f06-914c-84a900f736b4  \n",
       "480  88160728-75c4-43ac-b566-701e9c869a69  \n",
       "460  47116c2d-fac0-4136-97f6-08dbda1d16f2  \n",
       "..                                    ...  \n",
       "499  88160728-75c4-43ac-b566-701e9c869a69  \n",
       "199  8b584c8c-d33f-4f06-914c-84a900f736b4  \n",
       "139  7ecab08b-04e3-4faf-8621-388459ab077e  \n",
       "479  47116c2d-fac0-4136-97f6-08dbda1d16f2  \n",
       "519  1001ee2f-c5fa-4356-a79e-ab7b1206e699  \n",
       "\n",
       "[100 rows x 4 columns]"
      ]
     },
     "metadata": {},
     "output_type": "display_data"
    }
   ],
   "source": [
    "import pandas as pd\n",
    "from IPython.display import display\n",
    "\n",
    "# Sort the DataFrame by PickNumber\n",
    "sorted_df = filtered_lineups.sort_values('draft_round')\n",
    "\n",
    "# View player names by PickNumber\n",
    "player_names_by_pick = sorted_df[['draft_round', 'player_name', 'player_position', 'lineup_ID']]\n",
    "\n",
    "# Display the table in Jupyter Notebook\n",
    "display(player_names_by_pick)"
   ]
  },
  {
   "cell_type": "markdown",
   "id": "394e94c8",
   "metadata": {},
   "source": [
    "# Statistics"
   ]
  },
  {
   "cell_type": "code",
   "execution_count": 66,
   "id": "847c61d7",
   "metadata": {},
   "outputs": [
    {
     "name": "stdout",
     "output_type": "stream",
     "text": [
      "Jaccard Similarity: 0.05263157894736842\n"
     ]
    }
   ],
   "source": [
    "def calculate_jaccard_similarity(lineup1, lineup2):\n",
    "    set1 = set(lineup1)\n",
    "    set2 = set(lineup2)\n",
    "    intersection = len(set1.intersection(set2))\n",
    "    union = len(set1.union(set2))\n",
    "    jaccard_similarity = intersection / union\n",
    "    return jaccard_similarity\n",
    "\n",
    "# Extract player sets for two lineups (e.g., lineup 1 and lineup 2)\n",
    "lineup1 = df.loc[df['lineup_ID'] == '7503db21-be71-4e4d-ba2b-e47bbcff570b', 'player_name'].tolist()\n",
    "lineup2 = df.loc[df['lineup_ID'] == '8b15b096-bb27-46d8-8723-3b2dd8702d6d', 'player_name'].tolist()\n",
    "\n",
    "# Calculate the Jaccard similarity\n",
    "similarity = calculate_jaccard_similarity(lineup1, lineup2)\n",
    "print(\"Jaccard Similarity:\", similarity)"
   ]
  },
  {
   "cell_type": "code",
   "execution_count": 48,
   "id": "86e916a4",
   "metadata": {},
   "outputs": [
    {
     "name": "stdout",
     "output_type": "stream",
     "text": [
      "                                  lineup1  \\\n",
      "0    7503db21-be71-4e4d-ba2b-e47bbcff570b   \n",
      "1    7503db21-be71-4e4d-ba2b-e47bbcff570b   \n",
      "2    7503db21-be71-4e4d-ba2b-e47bbcff570b   \n",
      "3    7503db21-be71-4e4d-ba2b-e47bbcff570b   \n",
      "4    7503db21-be71-4e4d-ba2b-e47bbcff570b   \n",
      "..                                    ...   \n",
      "248  cc7f7610-c018-4378-9619-e889722440b1   \n",
      "249  cc7f7610-c018-4378-9619-e889722440b1   \n",
      "250  0ab9e7a8-8e1e-409c-b3b8-113cdfec95ff   \n",
      "251  0ab9e7a8-8e1e-409c-b3b8-113cdfec95ff   \n",
      "252  56b0dd52-ec28-4c93-855b-96d03e962a4b   \n",
      "\n",
      "                                  lineup2  similarity  \n",
      "0    8b15b096-bb27-46d8-8723-3b2dd8702d6d    0.052632  \n",
      "1    c73fa1b1-97e1-429f-887f-8f6fa114817b    0.081081  \n",
      "2    92d5fe6e-662b-4e09-ad1d-70c834cfb373    0.025641  \n",
      "3    d1729559-b42d-4533-85cc-742ba17b5d9c    0.081081  \n",
      "4    c64c8ad8-dbb4-4e9e-bf88-43ca89282be6    0.000000  \n",
      "..                                    ...         ...  \n",
      "248  56b0dd52-ec28-4c93-855b-96d03e962a4b    0.081081  \n",
      "249  0d26c912-e1a8-488d-a87c-87f9cf62ac4d    0.052632  \n",
      "250  56b0dd52-ec28-4c93-855b-96d03e962a4b    0.052632  \n",
      "251  0d26c912-e1a8-488d-a87c-87f9cf62ac4d    0.052632  \n",
      "252  0d26c912-e1a8-488d-a87c-87f9cf62ac4d    0.111111  \n",
      "\n",
      "[253 rows x 3 columns]\n"
     ]
    }
   ],
   "source": [
    "def calculate_jaccard_similarity(lineup1, lineup2):\n",
    "    set1 = set(lineup1)\n",
    "    set2 = set(lineup2)\n",
    "    intersection = len(set1.intersection(set2))\n",
    "    union = len(set1.union(set2))\n",
    "    jaccard_similarity = intersection / union\n",
    "    return jaccard_similarity\n",
    "\n",
    "# Extract unique lineup IDs\n",
    "lineup_ids = df['lineup_ID'].unique()\n",
    "\n",
    "# Calculate Jaccard similarity for all lineup pairs\n",
    "similarities = []\n",
    "for i in range(len(lineup_ids)):\n",
    "    for j in range(i+1, len(lineup_ids)):\n",
    "        lineup1 = df.loc[df['lineup_ID'] == lineup_ids[i], 'player_name'].tolist()\n",
    "        lineup2 = df.loc[df['lineup_ID'] == lineup_ids[j], 'player_name'].tolist()\n",
    "        similarity = calculate_jaccard_similarity(lineup1, lineup2)\n",
    "        similarities.append((lineup_ids[i], lineup_ids[j], similarity))\n",
    "\n",
    "# Convert similarities to DataFrame for easier analysis\n",
    "similarities_df = pd.DataFrame(similarities, columns=['lineup1', 'lineup2', 'similarity'])\n",
    "print(similarities_df)"
   ]
  },
  {
   "cell_type": "code",
   "execution_count": 49,
   "id": "2c928af5",
   "metadata": {},
   "outputs": [
    {
     "name": "stdout",
     "output_type": "stream",
     "text": [
      "Lineup 7ecab08b-04e3-4faf-8621-388459ab077e and Lineup 56b0dd52-ec28-4c93-855b-96d03e962a4b have a Jaccard similarity of 0.2903225806451613:\n",
      "Shared Players: ['Bucky Irving', 'Jaylen Warren', 'Chris Olave', 'Brock Purdy', 'Ladd McConkey', 'Dalton Kincaid', 'Blake Corum', 'Dylan Laube', 'Ricky Pearsall']\n",
      "-------\n",
      "Lineup a837181d-86db-4209-aaa1-c82156af5318 and Lineup 8b584c8c-d33f-4f06-914c-84a900f736b4 have a Jaccard similarity of 0.25:\n",
      "Shared Players: ['Brandon Aiyuk', 'Jalen Hurts', 'Courtland Sutton', 'Jermaine Burton', 'Brian Robinson Jr.', 'Hunter Henry', 'Joe Burrow', 'Deebo Samuel Sr.']\n",
      "-------\n",
      "Lineup 7ecab08b-04e3-4faf-8621-388459ab077e and Lineup 5800f56c-8272-4fb5-8697-8db05217b39a have a Jaccard similarity of 0.17647058823529413:\n",
      "Shared Players: ['Bucky Irving', 'Ezekiel Elliott', 'Brock Purdy', 'Justin Jefferson', 'MarShawn Lloyd', 'Ricky Pearsall']\n",
      "-------\n",
      "Lineup d1729559-b42d-4533-85cc-742ba17b5d9c and Lineup fad11e73-c167-4db0-ab18-ecf6a98d339b have a Jaccard similarity of 0.17647058823529413:\n",
      "Shared Players: ['Jaylen Warren', 'Dawson Knox', 'Rome Odunze', 'Trey Benson', 'Malik Nabers', 'Noah Fant']\n",
      "-------\n",
      "Lineup 341ae308-9744-4346-be5b-71f8404ca642 and Lineup 68d00616-d981-4cdd-adf3-46c0d198bd26 have a Jaccard similarity of 0.17647058823529413:\n",
      "Shared Players: ['Christian McCaffrey', 'Aaron Rodgers', 'Bryce Young', 'Kalif Raymond', 'Christian Kirk', 'Deebo Samuel Sr.']\n",
      "-------\n"
     ]
    }
   ],
   "source": [
    "# Extract unique lineup IDs\n",
    "lineup_ids = df['lineup_ID'].unique()\n",
    "\n",
    "# Calculate Jaccard similarity for all lineup pairs\n",
    "similarities = []\n",
    "for i in range(len(lineup_ids)):\n",
    "    for j in range(i+1, len(lineup_ids)):\n",
    "        lineup1 = df.loc[df['lineup_ID'] == lineup_ids[i], 'player_name'].tolist()\n",
    "        lineup2 = df.loc[df['lineup_ID'] == lineup_ids[j], 'player_name'].tolist()\n",
    "        similarity = calculate_jaccard_similarity(lineup1, lineup2)\n",
    "        similarities.append((lineup_ids[i], lineup_ids[j], similarity))\n",
    "\n",
    "# Convert similarities to DataFrame for easier analysis\n",
    "similarities_df = pd.DataFrame(similarities, columns=['lineup1', 'lineup2', 'similarity'])\n",
    "\n",
    "# Sort the DataFrame by similarity in descending order\n",
    "similarities_df = similarities_df.sort_values(by='similarity', ascending=False)\n",
    "\n",
    "# Print the top similar lineups and their shared players\n",
    "num_top_lineups = 5  # Specify the number of top similar lineups you want to analyze\n",
    "for index, row in similarities_df.head(num_top_lineups).iterrows():\n",
    "    lineup1 = df.loc[df['lineup_ID'] == row['lineup1'], 'player_name'].tolist()\n",
    "    lineup2 = df.loc[df['lineup_ID'] == row['lineup2'], 'player_name'].tolist()\n",
    "    shared_players = list(set(lineup1) & set(lineup2))\n",
    "    print(f\"Lineup {row['lineup1']} and Lineup {row['lineup2']} have a Jaccard similarity of {row['similarity']}:\")\n",
    "    print(f\"Shared Players: {shared_players}\")\n",
    "    print(\"-------\")"
   ]
  },
  {
   "cell_type": "code",
   "execution_count": null,
   "id": "b77c2c44",
   "metadata": {},
   "outputs": [],
   "source": []
  },
  {
   "cell_type": "code",
   "execution_count": null,
   "id": "9672b65c-5d36-408b-94ee-cff9c121249c",
   "metadata": {},
   "outputs": [],
   "source": []
  },
  {
   "cell_type": "code",
   "execution_count": null,
   "id": "50bfc1e2-1268-47b0-9c53-fb4b06242449",
   "metadata": {},
   "outputs": [],
   "source": []
  }
 ],
 "metadata": {
  "kernelspec": {
   "display_name": "Python 3 (ipykernel)",
   "language": "python",
   "name": "python3"
  },
  "language_info": {
   "codemirror_mode": {
    "name": "ipython",
    "version": 3
   },
   "file_extension": ".py",
   "mimetype": "text/x-python",
   "name": "python",
   "nbconvert_exporter": "python",
   "pygments_lexer": "ipython3",
   "version": "3.9.13"
  }
 },
 "nbformat": 4,
 "nbformat_minor": 5
}
