{
 "cells": [
  {
   "cell_type": "code",
   "execution_count": 94,
   "id": "2dc44d3e",
   "metadata": {},
   "outputs": [],
   "source": [
    "import pandas as pd\n",
    "import sqlite3\n",
    "\n",
    "conn = sqlite3.connect('/Users/jvonderhoff/Desktop/FantasyFootball/2024/prod_bestball_2024.db')\n",
    "\n",
    "query = \"SELECT * FROM lineups\"\n",
    "df = pd.read_sql(query, conn)"
   ]
  },
  {
   "cell_type": "code",
   "execution_count": 95,
   "id": "3f5cd0e2",
   "metadata": {},
   "outputs": [
    {
     "name": "stdout",
     "output_type": "stream",
     "text": [
      "Number of unique lineup_ID values: 19\n"
     ]
    }
   ],
   "source": [
    "unique_lineup_ids = df['lineup_ID'].nunique()\n",
    "print(\"Number of unique lineup_ID values:\", unique_lineup_ids)\n"
   ]
  },
  {
   "cell_type": "code",
   "execution_count": 96,
   "id": "fe3837b6",
   "metadata": {},
   "outputs": [
    {
     "name": "stdout",
     "output_type": "stream",
     "text": [
      "contest_site\n",
      "Draftkings    17\n",
      "Underdog       2\n",
      "Name: lineup_ID, dtype: int64\n"
     ]
    }
   ],
   "source": [
    "unique_count_per_site = df.groupby('contest_site')['lineup_ID'].nunique()\n",
    "print(unique_count_per_site)"
   ]
  },
  {
   "cell_type": "code",
   "execution_count": 97,
   "id": "7c1ac115",
   "metadata": {},
   "outputs": [
    {
     "name": "stdout",
     "output_type": "stream",
     "text": [
      "contest_site  contest_name   \n",
      "Draftkings    Best Ball Milly     2\n",
      "              Play Action        15\n",
      "Underdog      The Poodle          2\n",
      "Name: lineup_ID, dtype: int64\n"
     ]
    }
   ],
   "source": [
    "unique_count_per_site_name = df.groupby(['contest_site', 'contest_name'])['lineup_ID'].nunique()\n",
    "print(unique_count_per_site_name)"
   ]
  },
  {
   "cell_type": "markdown",
   "id": "85d7d973",
   "metadata": {},
   "source": [
    "# Money Spent\n",
    "Underdog credit\n",
    "1. 25 dollar deposit Bonus\n",
    "2. 25 dollar Legup Credit\n",
    "\n",
    "DraftKings Credit\n",
    "1. 1 free entry into Milly\n",
    "\n",
    "Money Spent\n",
    "1. 99 dollars for a year of legup\n",
    "2. 4.99 a month started beginning of May"
   ]
  },
  {
   "cell_type": "code",
   "execution_count": 98,
   "id": "79d12dd4",
   "metadata": {},
   "outputs": [
    {
     "name": "stdout",
     "output_type": "stream",
     "text": [
      "99\n"
     ]
    }
   ],
   "source": [
    "total_spent_per_lineup = df.drop_duplicates('lineup_ID')['contest_entryFee'].sum()\n",
    "print(total_spent_per_lineup)"
   ]
  },
  {
   "cell_type": "code",
   "execution_count": 99,
   "id": "e5114ef7",
   "metadata": {},
   "outputs": [
    {
     "name": "stdout",
     "output_type": "stream",
     "text": [
      "contest_site\n",
      "Draftkings    85\n",
      "Underdog      14\n",
      "Name: contest_entryFee, dtype: int64\n"
     ]
    }
   ],
   "source": [
    "total_spent_per_lineup_site = df.drop_duplicates('lineup_ID').groupby(['lineup_ID', 'contest_site'])['contest_entryFee'].sum().reset_index()\n",
    "total_spent_per_site = total_spent_per_lineup_site.groupby('contest_site')['contest_entryFee'].sum()\n",
    "print(total_spent_per_site)"
   ]
  },
  {
   "cell_type": "code",
   "execution_count": 100,
   "id": "f171e403",
   "metadata": {},
   "outputs": [
    {
     "name": "stdout",
     "output_type": "stream",
     "text": [
      "contest_name\n",
      "Best Ball Milly    40\n",
      "Play Action        45\n",
      "The Poodle         14\n",
      "Name: contest_entryFee, dtype: int64\n"
     ]
    }
   ],
   "source": [
    "total_spent_per_lineup = df.drop_duplicates('lineup_ID').groupby(['lineup_ID', 'contest_name'])['contest_entryFee'].sum().reset_index()\n",
    "total_spent_per_contest = total_spent_per_lineup.groupby('contest_name')['contest_entryFee'].sum()\n",
    "print(total_spent_per_contest)"
   ]
  },
  {
   "cell_type": "markdown",
   "id": "b69f29c9",
   "metadata": {},
   "source": [
    "# Lineup Analysis"
   ]
  },
  {
   "cell_type": "code",
   "execution_count": 102,
   "id": "49fad101",
   "metadata": {},
   "outputs": [
    {
     "name": "stdout",
     "output_type": "stream",
     "text": [
      "Lineup 7503db21-be71-4e4d-ba2b-e47bbcff570b: [\"Ja'Marr Chase\", 'Nico Collins', 'Cooper Kupp', 'Tee Higgins', 'Dalton Kincaid', 'Kenneth Walker III', 'George Kittle', 'Diontae Johnson', 'Tony Pollard', 'Devin Singletary', 'Matthew Stafford', 'Ezekiel Elliott', 'Jerome Ford', \"Ja'Lynn Polk\", 'Drake Maye', 'Marvin Mims Jr.', 'Bo Nix', 'Malik Washington', 'Dylan Laube', 'Jacoby Brissett']\n",
      "Lineup d1729559-b42d-4533-85cc-742ba17b5d9c: [\"Ja'Marr Chase\", 'Chris Olave', 'Malik Nabers', 'Tee Higgins', 'Tank Dell', 'Rome Odunze', 'Kyler Murray', 'Jaylen Warren', 'Trey Benson', 'Brian Robinson Jr.', 'Chase Brown', 'Jerome Ford', 'Deshaun Watson', 'Michael Wilson', 'Xavier Legette', 'Bryce Young', 'Tyler Conklin', 'Noah Fant', 'Mike Gesicki', 'Dawson Knox']\n",
      "Lineup a837181d-86db-4209-aaa1-c82156af5318: [\"Ja'Marr Chase\", 'Brandon Aiyuk', 'Deebo Samuel Sr.', 'Jalen Hurts', 'Trey McBride', 'Joe Burrow', 'Jordan Addison', 'Najee Harris', 'Javonte Williams', 'Courtland Sutton', 'Brian Robinson Jr.', 'Jerry Jeudy', 'MarShawn Lloyd', 'Jermaine Burton', 'Antonio Gibson', 'Hunter Henry', 'Marvin Mims Jr.', 'Javon Baker', \"D'Onta Foreman\", 'Kalif Raymond']\n"
     ]
    }
   ],
   "source": [
    "# Specify the desired player\n",
    "desired_player = \"Ja'Marr Chase\"\n",
    "\n",
    "# Filter lineups that include the desired player\n",
    "filtered_lineups = df[df['player_name'] == desired_player]\n",
    "\n",
    "# Print the lineup combinations for teams with the specific player\n",
    "for lineup_id in filtered_lineups['lineup_ID'].unique():\n",
    "    lineup = df[df['lineup_ID'] == lineup_id]['player_name'].tolist()\n",
    "    print(f\"Lineup {lineup_id}: {lineup}\")"
   ]
  },
  {
   "cell_type": "code",
   "execution_count": null,
   "id": "21da8f4b",
   "metadata": {},
   "outputs": [],
   "source": []
  },
  {
   "cell_type": "markdown",
   "id": "394e94c8",
   "metadata": {},
   "source": [
    "# Statistics"
   ]
  },
  {
   "cell_type": "code",
   "execution_count": 77,
   "id": "847c61d7",
   "metadata": {},
   "outputs": [
    {
     "name": "stdout",
     "output_type": "stream",
     "text": [
      "Jaccard Similarity: 0.05263157894736842\n"
     ]
    }
   ],
   "source": [
    "def calculate_jaccard_similarity(lineup1, lineup2):\n",
    "    set1 = set(lineup1)\n",
    "    set2 = set(lineup2)\n",
    "    intersection = len(set1.intersection(set2))\n",
    "    union = len(set1.union(set2))\n",
    "    jaccard_similarity = intersection / union\n",
    "    return jaccard_similarity\n",
    "\n",
    "# Extract player sets for two lineups (e.g., lineup 1 and lineup 2)\n",
    "lineup1 = df.loc[df['lineup_ID'] == '7503db21-be71-4e4d-ba2b-e47bbcff570b', 'player_name'].tolist()\n",
    "lineup2 = df.loc[df['lineup_ID'] == '8b15b096-bb27-46d8-8723-3b2dd8702d6d', 'player_name'].tolist()\n",
    "\n",
    "# Calculate the Jaccard similarity\n",
    "similarity = calculate_jaccard_similarity(lineup1, lineup2)\n",
    "print(\"Jaccard Similarity:\", similarity)"
   ]
  },
  {
   "cell_type": "code",
   "execution_count": 78,
   "id": "86e916a4",
   "metadata": {},
   "outputs": [
    {
     "name": "stdout",
     "output_type": "stream",
     "text": [
      "                                  lineup1  \\\n",
      "0    7503db21-be71-4e4d-ba2b-e47bbcff570b   \n",
      "1    7503db21-be71-4e4d-ba2b-e47bbcff570b   \n",
      "2    7503db21-be71-4e4d-ba2b-e47bbcff570b   \n",
      "3    7503db21-be71-4e4d-ba2b-e47bbcff570b   \n",
      "4    7503db21-be71-4e4d-ba2b-e47bbcff570b   \n",
      "..                                    ...   \n",
      "166  68d00616-d981-4cdd-adf3-46c0d198bd26   \n",
      "167  68d00616-d981-4cdd-adf3-46c0d198bd26   \n",
      "168  5800f56c-8272-4fb5-8697-8db05217b39a   \n",
      "169  5800f56c-8272-4fb5-8697-8db05217b39a   \n",
      "170  00c541c0-d0f3-41fb-8d5d-04d7618bcd23   \n",
      "\n",
      "                                  lineup2  similarity  \n",
      "0    8b15b096-bb27-46d8-8723-3b2dd8702d6d    0.052632  \n",
      "1    c73fa1b1-97e1-429f-887f-8f6fa114817b    0.081081  \n",
      "2    92d5fe6e-662b-4e09-ad1d-70c834cfb373    0.025641  \n",
      "3    d1729559-b42d-4533-85cc-742ba17b5d9c    0.081081  \n",
      "4    c64c8ad8-dbb4-4e9e-bf88-43ca89282be6    0.000000  \n",
      "..                                    ...         ...  \n",
      "166  00c541c0-d0f3-41fb-8d5d-04d7618bcd23    0.027027  \n",
      "167  304ba00b-07e6-4228-b024-7b0362b539e9    0.055556  \n",
      "168  00c541c0-d0f3-41fb-8d5d-04d7618bcd23    0.055556  \n",
      "169  304ba00b-07e6-4228-b024-7b0362b539e9    0.027027  \n",
      "170  304ba00b-07e6-4228-b024-7b0362b539e9    0.000000  \n",
      "\n",
      "[171 rows x 3 columns]\n"
     ]
    }
   ],
   "source": [
    "def calculate_jaccard_similarity(lineup1, lineup2):\n",
    "    set1 = set(lineup1)\n",
    "    set2 = set(lineup2)\n",
    "    intersection = len(set1.intersection(set2))\n",
    "    union = len(set1.union(set2))\n",
    "    jaccard_similarity = intersection / union\n",
    "    return jaccard_similarity\n",
    "\n",
    "# Extract unique lineup IDs\n",
    "lineup_ids = df['lineup_ID'].unique()\n",
    "\n",
    "# Calculate Jaccard similarity for all lineup pairs\n",
    "similarities = []\n",
    "for i in range(len(lineup_ids)):\n",
    "    for j in range(i+1, len(lineup_ids)):\n",
    "        lineup1 = df.loc[df['lineup_ID'] == lineup_ids[i], 'player_name'].tolist()\n",
    "        lineup2 = df.loc[df['lineup_ID'] == lineup_ids[j], 'player_name'].tolist()\n",
    "        similarity = calculate_jaccard_similarity(lineup1, lineup2)\n",
    "        similarities.append((lineup_ids[i], lineup_ids[j], similarity))\n",
    "\n",
    "# Convert similarities to DataFrame for easier analysis\n",
    "similarities_df = pd.DataFrame(similarities, columns=['lineup1', 'lineup2', 'similarity'])\n",
    "print(similarities_df)"
   ]
  },
  {
   "cell_type": "code",
   "execution_count": 79,
   "id": "2c928af5",
   "metadata": {},
   "outputs": [
    {
     "name": "stdout",
     "output_type": "stream",
     "text": [
      "Lineup a837181d-86db-4209-aaa1-c82156af5318 and Lineup 8b584c8c-d33f-4f06-914c-84a900f736b4 have a Jaccard similarity of 0.25:\n",
      "Shared Players: ['Deebo Samuel Sr.', 'Brandon Aiyuk', 'Jermaine Burton', 'Jalen Hurts', 'Hunter Henry', 'Brian Robinson Jr.', 'Courtland Sutton', 'Joe Burrow']\n",
      "-------\n",
      "Lineup d1729559-b42d-4533-85cc-742ba17b5d9c and Lineup fad11e73-c167-4db0-ab18-ecf6a98d339b have a Jaccard similarity of 0.17647058823529413:\n",
      "Shared Players: ['Trey Benson', 'Malik Nabers', 'Rome Odunze', 'Dawson Knox', 'Jaylen Warren', 'Noah Fant']\n",
      "-------\n",
      "Lineup 341ae308-9744-4346-be5b-71f8404ca642 and Lineup 68d00616-d981-4cdd-adf3-46c0d198bd26 have a Jaccard similarity of 0.17647058823529413:\n",
      "Shared Players: ['Christian McCaffrey', 'Aaron Rodgers', 'Bryce Young', 'Deebo Samuel Sr.', 'Christian Kirk', 'Kalif Raymond']\n",
      "-------\n",
      "Lineup 7ecab08b-04e3-4faf-8621-388459ab077e and Lineup 5800f56c-8272-4fb5-8697-8db05217b39a have a Jaccard similarity of 0.17647058823529413:\n",
      "Shared Players: ['Ezekiel Elliott', 'Brock Purdy', 'Justin Jefferson', 'Ricky Pearsall', 'Bucky Irving', 'MarShawn Lloyd']\n",
      "-------\n",
      "Lineup c97f6764-ae8e-4a64-8f1c-300b3cec0e4e and Lineup fad11e73-c167-4db0-ab18-ecf6a98d339b have a Jaccard similarity of 0.14285714285714285:\n",
      "Shared Players: ['Trey Benson', 'Breece Hall', 'Ray Davis', 'Terry McLaurin', 'Jayden Daniels']\n",
      "-------\n"
     ]
    }
   ],
   "source": [
    "# Extract unique lineup IDs\n",
    "lineup_ids = df['lineup_ID'].unique()\n",
    "\n",
    "# Calculate Jaccard similarity for all lineup pairs\n",
    "similarities = []\n",
    "for i in range(len(lineup_ids)):\n",
    "    for j in range(i+1, len(lineup_ids)):\n",
    "        lineup1 = df.loc[df['lineup_ID'] == lineup_ids[i], 'player_name'].tolist()\n",
    "        lineup2 = df.loc[df['lineup_ID'] == lineup_ids[j], 'player_name'].tolist()\n",
    "        similarity = calculate_jaccard_similarity(lineup1, lineup2)\n",
    "        similarities.append((lineup_ids[i], lineup_ids[j], similarity))\n",
    "\n",
    "# Convert similarities to DataFrame for easier analysis\n",
    "similarities_df = pd.DataFrame(similarities, columns=['lineup1', 'lineup2', 'similarity'])\n",
    "\n",
    "# Sort the DataFrame by similarity in descending order\n",
    "similarities_df = similarities_df.sort_values(by='similarity', ascending=False)\n",
    "\n",
    "# Print the top similar lineups and their shared players\n",
    "num_top_lineups = 5  # Specify the number of top similar lineups you want to analyze\n",
    "for index, row in similarities_df.head(num_top_lineups).iterrows():\n",
    "    lineup1 = df.loc[df['lineup_ID'] == row['lineup1'], 'player_name'].tolist()\n",
    "    lineup2 = df.loc[df['lineup_ID'] == row['lineup2'], 'player_name'].tolist()\n",
    "    shared_players = list(set(lineup1) & set(lineup2))\n",
    "    print(f\"Lineup {row['lineup1']} and Lineup {row['lineup2']} have a Jaccard similarity of {row['similarity']}:\")\n",
    "    print(f\"Shared Players: {shared_players}\")\n",
    "    print(\"-------\")"
   ]
  },
  {
   "cell_type": "code",
   "execution_count": null,
   "id": "b77c2c44",
   "metadata": {},
   "outputs": [],
   "source": []
  }
 ],
 "metadata": {
  "kernelspec": {
   "display_name": "Python 3 (ipykernel)",
   "language": "python",
   "name": "python3"
  },
  "language_info": {
   "codemirror_mode": {
    "name": "ipython",
    "version": 3
   },
   "file_extension": ".py",
   "mimetype": "text/x-python",
   "name": "python",
   "nbconvert_exporter": "python",
   "pygments_lexer": "ipython3",
   "version": "3.9.13"
  }
 },
 "nbformat": 4,
 "nbformat_minor": 5
}
